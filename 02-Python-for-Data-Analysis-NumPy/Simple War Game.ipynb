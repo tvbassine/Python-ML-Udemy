{
 "cells": [
  {
   "cell_type": "markdown",
   "id": "ad208cd4",
   "metadata": {},
   "source": [
    "Goal: create a function that plays a simple game of war against the computer"
   ]
  },
  {
   "cell_type": "code",
   "execution_count": 2,
   "id": "2f40838a",
   "metadata": {},
   "outputs": [],
   "source": [
    "import numpy as np"
   ]
  },
  {
   "cell_type": "code",
   "execution_count": null,
   "id": "ab41acdf",
   "metadata": {},
   "outputs": [],
   "source": [
    "def warFunction(arg):"
   ]
  },
  {
   "cell_type": "code",
   "execution_count": 16,
   "id": "d7fda1f1",
   "metadata": {},
   "outputs": [],
   "source": [
    "player_num = np.random.randint(2,15,1) #random number from 2 to 14. 11=J, 12=Q, 13 = K, 14= Ace\n",
    "computer_num = np.random.randint(2,15,1)"
   ]
  },
  {
   "cell_type": "code",
   "execution_count": 17,
   "id": "93ddb504",
   "metadata": {},
   "outputs": [
    {
     "name": "stdout",
     "output_type": "stream",
     "text": [
      "['Spades']\n"
     ]
    }
   ],
   "source": [
    "player_suit = random.sample(['Hearts','Spades','Clubs','Diamonds'], 1)\n",
    "computer_suit = random.sample(['Hearts','Spades','Clubs','Diamonds'], 1)\n",
    "print(player_suit)"
   ]
  },
  {
   "cell_type": "code",
   "execution_count": 29,
   "id": "bb00adf6",
   "metadata": {},
   "outputs": [
    {
     "name": "stdout",
     "output_type": "stream",
     "text": [
      "Sorry, you lost. Your [7] of ['Clubs'] lost to the [12] of ['Spades'].\n"
     ]
    }
   ],
   "source": [
    "count = 0\n",
    "while count == 0:\n",
    "    player_num = np.random.randint(2,15,1) #random number from 2 to 14. 11=J, 12=Q, 13 = K, 14= Ace\n",
    "    computer_num = np.random.randint(2,15,1)\n",
    "    player_suit = random.sample(['Hearts','Spades','Clubs','Diamonds'], 1)\n",
    "    computer_suit = random.sample(['Hearts','Spades','Clubs','Diamonds'], 1)\n",
    "    if (player_suit == computer_suit) and (player_suit == computer_suit):\n",
    "        print('Try again')\n",
    "    else:\n",
    "        if player_num > computer_num:\n",
    "            print('Congrats, you win! Your {} of {} beat the {} of {}.'.format(player_num, player_suit, computer_num, computer_suit))\n",
    "        else:\n",
    "            print('Sorry, you lost. Your {} of {} lost to the {} of {}.'.format(player_num, player_suit, computer_num, computer_suit))\n",
    "        count = 1\n"
   ]
  },
  {
   "cell_type": "code",
   "execution_count": null,
   "id": "02f8268f",
   "metadata": {},
   "outputs": [],
   "source": [
    "player_"
   ]
  },
  {
   "cell_type": "code",
   "execution_count": null,
   "id": "7697e794",
   "metadata": {},
   "outputs": [],
   "source": []
  }
 ],
 "metadata": {
  "kernelspec": {
   "display_name": "Python 3",
   "language": "python",
   "name": "python3"
  },
  "language_info": {
   "codemirror_mode": {
    "name": "ipython",
    "version": 3
   },
   "file_extension": ".py",
   "mimetype": "text/x-python",
   "name": "python",
   "nbconvert_exporter": "python",
   "pygments_lexer": "ipython3",
   "version": "3.8.8"
  }
 },
 "nbformat": 4,
 "nbformat_minor": 5
}
